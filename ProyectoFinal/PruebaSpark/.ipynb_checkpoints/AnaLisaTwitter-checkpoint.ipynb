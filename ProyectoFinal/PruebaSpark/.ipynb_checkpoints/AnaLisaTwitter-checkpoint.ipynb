{
 "cells": [
  {
   "cell_type": "code",
   "execution_count": null,
   "metadata": {},
   "outputs": [
    {
     "name": "stdout",
     "output_type": "stream",
     "text": [
      "Listening on port: 5555\n"
     ]
    }
   ],
   "source": [
    "\"\"\"\n",
    "from tweepy import Stream\n",
    "from tweepy import OAuthHandler\n",
    "from tweepy.streaming import StreamListener\n",
    "\n",
    "class listener(StreamListener):\n",
    "    def on_data(self,data):\n",
    "        fesc.write(data + '\\n')\n",
    "        print(data)\n",
    "        return True\n",
    "    def on_error(self,status):\n",
    "        print(status)\n",
    "                    \n",
    "ckey = 'lcdKl61g4o20ToBuqDHeGWIh5'\n",
    "csecret = 'izaJyIBclqK5XdPb7wtt4K7pvoa5o0zQhNBP58RqQFBNIpsgx0'\n",
    "atoken = '26922451-I50wrMPKRPhBs59XQBH1CvaTtltQfcmr130ZmrTCm'\n",
    "asecret = 'XmkriM5kHpV4572ziLP2lkmpMVS1RAkX0Xah8GTltm72A'\n",
    "        \n",
    "auth = OAuthHandler(ckey, csecret)\n",
    "auth.set_access_token(atoken, asecret)\n",
    "twitterStream = Stream(auth, listener())\n",
    "\n",
    "fesc = open('tuits.txt','w')\n",
    "twitterStream.filter(track=[\"Guadalupe\"])\n",
    "\"\"\"\n",
    "\n",
    "import tweepy\n",
    "from tweepy import OAuthHandler\n",
    "from tweepy import Stream\n",
    "from tweepy.streaming import StreamListener\n",
    "import socket\n",
    "import json\n",
    "\n",
    "consumer_key = 'lcdKl61g4o20ToBuqDHeGWIh5'\n",
    "consumer_secret = 'izaJyIBclqK5XdPb7wtt4K7pvoa5o0zQhNBP58RqQFBNIpsgx0'\n",
    "access_token = '26922451-I50wrMPKRPhBs59XQBH1CvaTtltQfcmr130ZmrTCm'\n",
    "access_secret = 'XmkriM5kHpV4572ziLP2lkmpMVS1RAkX0Xah8GTltm72A'\n",
    "\n",
    "class TweetsListener(StreamListener):\n",
    "  def __init__(self, csocket):\n",
    "      self.client_socket = csocket\n",
    "  def on_data(self, data):\n",
    "      try:\n",
    "          msg = json.loads( data )\n",
    "          print( msg['text'].encode('utf-8') )\n",
    "          self.client_socket.send( msg['text'].encode('utf-8') )\n",
    "          return True\n",
    "      except BaseException as e:\n",
    "          print(\"Error on_data: %s\" % str(e))\n",
    "      return True\n",
    "\n",
    "  def on_error(self, status):\n",
    "      print(status)\n",
    "      return True\n",
    "\n",
    "def sendData(c_socket):\n",
    "  auth = OAuthHandler(consumer_key, consumer_secret)\n",
    "  auth.set_access_token(access_token, access_secret)\n",
    "\n",
    "  twitter_stream = Stream(auth, TweetsListener(c_socket))\n",
    "  twitter_stream.filter(track=['trump'])\n",
    "\n",
    "if __name__ == \"__main__\":\n",
    "  s = socket.socket()         # Create a socket object\n",
    "  host = \"192.168.254.1\"      # Get local machine name\n",
    "  port = 5555                 # Reserve a port for your service.\n",
    "  s.bind((host, port))        # Bind to the port\n",
    "\n",
    "  print(\"Listening on port: %s\" % str(port))\n",
    "\n",
    "  s.listen(5)                 # Now wait for client connection.\n",
    "  c, addr = s.accept()        # Establish connection with client.\n",
    "\n",
    "  print( \"Received request from: \" + str( addr ) )\n",
    "\n",
    "  sendData( c )"
   ]
  },
  {
   "cell_type": "code",
   "execution_count": null,
   "metadata": {},
   "outputs": [],
   "source": []
  }
 ],
 "metadata": {
  "kernelspec": {
   "display_name": "Python 3",
   "language": "python",
   "name": "python3"
  },
  "language_info": {
   "codemirror_mode": {
    "name": "ipython",
    "version": 3
   },
   "file_extension": ".py",
   "mimetype": "text/x-python",
   "name": "python",
   "nbconvert_exporter": "python",
   "pygments_lexer": "ipython3",
   "version": "3.6.5"
  }
 },
 "nbformat": 4,
 "nbformat_minor": 2
}
